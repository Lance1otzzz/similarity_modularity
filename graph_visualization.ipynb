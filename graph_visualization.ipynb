{
 "cells": [
  {
   "cell_type": "code",
   "id": "initial_id",
   "metadata": {
    "collapsed": true,
    "ExecuteTime": {
     "end_time": "2025-03-03T13:36:55.955723Z",
     "start_time": "2025-03-03T13:36:52.758527Z"
    }
   },
   "source": [
    "import json\n",
    "import networkx as nx\n",
    "import numpy as np\n",
    "\n",
    "def validate_graph(G):\n",
    "    print(\"节点特征验证:\")\n",
    "    for node in G.nodes(data=True):\n",
    "        print(f\"Node {node[0]}: features={node[1]['features']}\")\n",
    "\n",
    "    print(\"\\n边权重验证:\")\n",
    "    for edge in G.edges(data=True):\n",
    "        print(f\"Edge {edge[0]}-{edge[1]}: weight={edge[2]['weight']}\")\n",
    "\n",
    "\n",
    "\n",
    "def load_graph_from_json(json_path):\n",
    "    with open(json_path) as f:\n",
    "        data = json.load(f)\n",
    "\n",
    "    G = nx.Graph()\n",
    "    for node in data['nodes']:\n",
    "        G.add_node(node['id'], features=node['features'])\n",
    "\n",
    "    for edge in data['edges']:\n",
    "        G.add_edge(edge['source'], edge['target'], weight=edge.get('weight', 1.0))\n",
    "\n",
    "    return G\n",
    "\n",
    "if __name__ == \"__main__\":\n",
    "    G = load_graph_from_json('graph_data.json')\n",
    "    validate_graph(G)\n",
    "\n",
    "    # 特征相似度验证\n",
    "    from sklearn.metrics.pairwise import cosine_similarity\n",
    "    features = [G.nodes[n]['features'] for n in sorted(G.nodes)]\n",
    "    sim_matrix = cosine_similarity(features)\n",
    "    print(\"\\n余弦相似度矩阵:\")\n",
    "    print(np.round(sim_matrix, 3))\n"
   ],
   "outputs": [
    {
     "name": "stdout",
     "output_type": "stream",
     "text": [
      "节点特征验证:\n",
      "Node 0: features=[1.0, 0.0, 0.2]\n",
      "Node 1: features=[0.9, 0.1, 0.3]\n",
      "Node 2: features=[0.85, 0.15, 0.25]\n",
      "Node 3: features=[0.2, 0.8, 0.9]\n",
      "Node 4: features=[0.3, 0.7, 0.85]\n",
      "\n",
      "边权重验证:\n",
      "Edge 0-1: weight=0.9\n",
      "Edge 0-2: weight=0.8\n",
      "Edge 0-3: weight=0.2\n",
      "Edge 1-2: weight=0.85\n",
      "Edge 3-4: weight=0.95\n",
      "\n",
      "余弦相似度矩阵:\n",
      "[[1.    0.987 0.982 0.305 0.404]\n",
      " [0.987 1.    0.997 0.455 0.547]\n",
      " [0.982 0.997 1.    0.47  0.558]\n",
      " [0.305 0.455 0.47  1.    0.994]\n",
      " [0.404 0.547 0.558 0.994 1.   ]]\n"
     ]
    }
   ],
   "execution_count": 1
  }
 ],
 "metadata": {
  "kernelspec": {
   "display_name": "Python 3",
   "language": "python",
   "name": "python3"
  },
  "language_info": {
   "codemirror_mode": {
    "name": "ipython",
    "version": 2
   },
   "file_extension": ".py",
   "mimetype": "text/x-python",
   "name": "python",
   "nbconvert_exporter": "python",
   "pygments_lexer": "ipython2",
   "version": "2.7.6"
  }
 },
 "nbformat": 4,
 "nbformat_minor": 5
}
