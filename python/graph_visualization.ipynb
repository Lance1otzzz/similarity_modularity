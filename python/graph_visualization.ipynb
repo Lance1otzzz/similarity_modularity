{
 "cells": [
  {
   "cell_type": "code",
   "id": "initial_id",
   "metadata": {
    "collapsed": true,
    "ExecuteTime": {
     "end_time": "2025-03-03T13:36:55.955723Z",
     "start_time": "2025-03-03T13:36:52.758527Z"
    }
   },
   "source": "from tree_search import *\n",
   "outputs": [
    {
     "name": "stdout",
     "output_type": "stream",
     "text": [
      "节点特征验证:\n",
      "Node 0: features=[1.0, 0.0, 0.2]\n",
      "Node 1: features=[0.9, 0.1, 0.3]\n",
      "Node 2: features=[0.85, 0.15, 0.25]\n",
      "Node 3: features=[0.2, 0.8, 0.9]\n",
      "Node 4: features=[0.3, 0.7, 0.85]\n",
      "\n",
      "边权重验证:\n",
      "Edge 0-1: weight=0.9\n",
      "Edge 0-2: weight=0.8\n",
      "Edge 0-3: weight=0.2\n",
      "Edge 1-2: weight=0.85\n",
      "Edge 3-4: weight=0.95\n",
      "\n",
      "余弦相似度矩阵:\n",
      "[[1.    0.987 0.982 0.305 0.404]\n",
      " [0.987 1.    0.997 0.455 0.547]\n",
      " [0.982 0.997 1.    0.47  0.558]\n",
      " [0.305 0.455 0.47  1.    0.994]\n",
      " [0.404 0.547 0.558 0.994 1.   ]]\n"
     ]
    }
   ],
   "execution_count": 1
  },
  {
   "metadata": {},
   "cell_type": "markdown",
   "source": [
    "# 生成测试代码\n",
    "强行的两个community，保证了community内属性相似度非常好，"
   ],
   "id": "714689518f86ac04"
  },
  {
   "metadata": {
    "ExecuteTime": {
     "end_time": "2025-03-03T17:55:10.990352Z",
     "start_time": "2025-03-03T17:55:10.891587Z"
    }
   },
   "cell_type": "code",
   "source": [
    "import numpy as np\n",
    "import json\n",
    "\n",
    "# 设置随机种子以确保可重复性\n",
    "np.random.seed(42)\n",
    "\n",
    "# 生成节点特征\n",
    "def generate_features(num_nodes, feature_dim=2):\n",
    "    # 生成两个社区的特征\n",
    "    community_1 = np.random.normal(loc=[0.9, 0.1], scale=0.05, size=(num_nodes // 2, feature_dim))\n",
    "    community_2 = np.random.normal(loc=[0.1, 0.9], scale=0.05, size=(num_nodes // 2, feature_dim))\n",
    "    features = np.vstack([community_1, community_2])\n",
    "    return features\n",
    "\n",
    "# 生成边\n",
    "def generate_edges(features, intra_weight=1.0, inter_weight=0.5):\n",
    "    num_nodes = len(features)\n",
    "    edges = []\n",
    "    for i in range(num_nodes):\n",
    "        for j in range(i + 1, num_nodes):\n",
    "            # 计算特征相似度\n",
    "            similarity = np.dot(features[i], features[j]) / (np.linalg.norm(features[i]) * np.linalg.norm(features[j]))\n",
    "            if similarity > 0.8:  # 强连接\n",
    "                edges.append({\"source\": i, \"target\": j, \"weight\": intra_weight})\n",
    "            elif similarity > 0.3:  # 弱连接\n",
    "                edges.append({\"source\": i, \"target\": j, \"weight\": inter_weight})\n",
    "    return edges\n",
    "\n",
    "# 生成图数据\n",
    "def generate_graph_data(num_nodes=6):\n",
    "    features = generate_features(num_nodes)\n",
    "    edges = generate_edges(features)\n",
    "    nodes = [{\"id\": i, \"features\": features[i].tolist()} for i in range(num_nodes)]\n",
    "    return {\"nodes\": nodes, \"edges\": edges}\n",
    "\n",
    "# 保存为JSON文件\n",
    "def save_graph_to_json(graph_data, file_path=\"graph_data.json\"):\n",
    "    with open(file_path, \"w\") as f:\n",
    "        json.dump(graph_data, f, indent=2)\n",
    "\n",
    "# 生成并保存图数据\n",
    "graph_data = generate_graph_data(num_nodes=10)\n",
    "save_graph_to_json(graph_data)\n",
    "print(\"图数据已保存到 graph_data.json\")"
   ],
   "id": "489b94703c81456f",
   "outputs": [
    {
     "name": "stdout",
     "output_type": "stream",
     "text": [
      "图数据已保存到 graph_data.json\n"
     ]
    }
   ],
   "execution_count": 1
  },
  {
   "metadata": {
    "ExecuteTime": {
     "end_time": "2025-03-04T16:18:09.774179Z",
     "start_time": "2025-03-04T16:18:09.701176Z"
    }
   },
   "cell_type": "code",
   "source": [
    "from tree_search import *\n",
    "import matplotlib.pyplot as plt\n",
    "\n",
    "def draw_graph(G, communities):\n",
    "    pos = nx.spring_layout(G)\n",
    "    colors = [i for i, comm in enumerate(communities.values()) for _ in comm]\n",
    "    nx.draw(G, pos, node_color=colors, with_labels=True, cmap=plt.cm.tab10)\n",
    "    plt.show()\n",
    "\n",
    "if __name__ == \"__main__\":\n",
    "    G = load_graph_from_json('louvain_test.json')\n",
    "    searcher = TreeSearchLouvain(G, r=0.8)  # 调整相似度阈值 r 进行测试\n",
    "    communities = searcher.run()\n",
    "    print(\"最优划分:\", communities)\n",
    "    draw_graph(G, communities)"
   ],
   "id": "cc4d1374b2f6aac",
   "outputs": [
    {
     "name": "stdout",
     "output_type": "stream",
     "text": [
      "最优划分: {'Community_0': {0, 1}, 'Community_1': {2}, 'Community_2': {3}, 'Community_3': {4}, 'Community_4': {5}, 'Community_5': {6}, 'Community_6': {7}, 'Community_7': {8}}\n"
     ]
    },
    {
     "data": {
      "text/plain": [
       "<Figure size 640x480 with 1 Axes>"
      ],
      "image/png": "[encoded data removed]"
     },
     "metadata": {},
     "output_type": "display_data"
    }
   ],
   "execution_count": 4
  }
 ],
 "metadata": {
  "kernelspec": {
   "display_name": "Python 3",
   "language": "python",
   "name": "python3"
  },
  "language_info": {
   "codemirror_mode": {
    "name": "ipython",
    "version": 2
   },
   "file_extension": ".py",
   "mimetype": "text/x-python",
   "name": "python",
   "nbconvert_exporter": "python",
   "pygments_lexer": "ipython2",
   "version": "2.7.6"
  }
 },
 "nbformat": 4,
 "nbformat_minor": 5
}
